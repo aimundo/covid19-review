{
 "cells": [
  {
   "cell_type": "markdown",
   "metadata": {},
   "source": [
    "# Generatestats for templated use in the Meta Review\n",
    "\n",
    "Note that some statistics are generated from the git submodule, and correspond to the version specified by `commit`. Other statistics are generated from the GitHub API and reflect the repositories status at runtime, as specified by `creation_time_utc`."
   ]
  },
  {
   "cell_type": "code",
   "execution_count": 1,
   "metadata": {},
   "outputs": [],
   "source": [
    "import collections\n",
    "import datetime\n",
    "import json\n",
    "import pathlib\n",
    "import os\n",
    "\n",
    "import pandas\n",
    "import requests\n",
    "import yaml\n",
    "import wget"
   ]
  },
  {
   "cell_type": "code",
   "execution_count": 2,
   "metadata": {},
   "outputs": [],
   "source": [
    "stats = collections.OrderedDict()\n",
    "now = datetime.datetime.utcnow()\n",
    "stats['creation_time_utc'] = now.isoformat()\n",
    "stats['creation_date_pretty'] = f'{now:%B %d, %Y}'"
   ]
  },
  {
   "cell_type": "markdown",
   "metadata": {},
   "source": [
    "## Git repository stats"
   ]
  },
  {
   "cell_type": "code",
   "execution_count": 3,
   "metadata": {},
   "outputs": [
    {
     "data": {
      "text/html": [
       "<div>\n",
       "<style scoped>\n",
       "    .dataframe tbody tr th:only-of-type {\n",
       "        vertical-align: middle;\n",
       "    }\n",
       "\n",
       "    .dataframe tbody tr th {\n",
       "        vertical-align: top;\n",
       "    }\n",
       "\n",
       "    .dataframe thead th {\n",
       "        text-align: right;\n",
       "    }\n",
       "</style>\n",
       "<table border=\"1\" class=\"dataframe\">\n",
       "  <thead>\n",
       "    <tr style=\"text-align: right;\">\n",
       "      <th></th>\n",
       "      <th>commit</th>\n",
       "      <th>author_name</th>\n",
       "      <th>author_email</th>\n",
       "      <th>committer_name</th>\n",
       "      <th>authored_datetime</th>\n",
       "      <th>committed_datetime</th>\n",
       "      <th>summary</th>\n",
       "      <th>count</th>\n",
       "      <th>merge</th>\n",
       "      <th>parents</th>\n",
       "      <th>words_added</th>\n",
       "      <th>words_deleted</th>\n",
       "      <th>characters_added</th>\n",
       "      <th>characters_deleted</th>\n",
       "    </tr>\n",
       "  </thead>\n",
       "  <tbody>\n",
       "    <tr>\n",
       "      <th>5041</th>\n",
       "      <td>48203f74d8283154d866d14aef2c7e87b337cd67</td>\n",
       "      <td>Halie Rando</td>\n",
       "      <td>halie.rando@cuanschutz.edu</td>\n",
       "      <td>GitHub</td>\n",
       "      <td>2021-09-09</td>\n",
       "      <td>2021-09-09 18:05:28-04:00</td>\n",
       "      <td>Merge branch 'master' into jf-edits</td>\n",
       "      <td>5316.0</td>\n",
       "      <td>1.0</td>\n",
       "      <td>78418ae1e8e3f4c84f2d97310745ffd8d61d02d7, 2bcf...</td>\n",
       "      <td>529.0</td>\n",
       "      <td>0.0</td>\n",
       "      <td>3952.0</td>\n",
       "      <td>93.0</td>\n",
       "    </tr>\n",
       "    <tr>\n",
       "      <th>5042</th>\n",
       "      <td>89adbc3fed98ebf280331011aef5bf804bcbf77c</td>\n",
       "      <td>Anthony Gitter</td>\n",
       "      <td>agitter@users.noreply.github.com</td>\n",
       "      <td>GitHub</td>\n",
       "      <td>2021-09-10</td>\n",
       "      <td>2021-09-09 21:31:23-05:00</td>\n",
       "      <td>Merge pull request #1025 from rando2/jf-edits</td>\n",
       "      <td>5317.0</td>\n",
       "      <td>1.0</td>\n",
       "      <td>2bcf287241085c340b0346af1b798cd9c84ac113, 4820...</td>\n",
       "      <td>1092.0</td>\n",
       "      <td>539.0</td>\n",
       "      <td>8315.0</td>\n",
       "      <td>4086.0</td>\n",
       "    </tr>\n",
       "  </tbody>\n",
       "</table>\n",
       "</div>"
      ],
      "text/plain": [
       "                                        commit     author_name  \\\n",
       "5041  48203f74d8283154d866d14aef2c7e87b337cd67     Halie Rando   \n",
       "5042  89adbc3fed98ebf280331011aef5bf804bcbf77c  Anthony Gitter   \n",
       "\n",
       "                          author_email committer_name authored_datetime  \\\n",
       "5041        halie.rando@cuanschutz.edu         GitHub        2021-09-09   \n",
       "5042  agitter@users.noreply.github.com         GitHub        2021-09-10   \n",
       "\n",
       "             committed_datetime  \\\n",
       "5041  2021-09-09 18:05:28-04:00   \n",
       "5042  2021-09-09 21:31:23-05:00   \n",
       "\n",
       "                                            summary   count  merge  \\\n",
       "5041            Merge branch 'master' into jf-edits  5316.0    1.0   \n",
       "5042  Merge pull request #1025 from rando2/jf-edits  5317.0    1.0   \n",
       "\n",
       "                                                parents  words_added  \\\n",
       "5041  78418ae1e8e3f4c84f2d97310745ffd8d61d02d7, 2bcf...        529.0   \n",
       "5042  2bcf287241085c340b0346af1b798cd9c84ac113, 4820...       1092.0   \n",
       "\n",
       "      words_deleted  characters_added  characters_deleted  \n",
       "5041            0.0            3952.0                93.0  \n",
       "5042          539.0            8315.0              4086.0  "
      ]
     },
     "execution_count": 3,
     "metadata": {},
     "output_type": "execute_result"
    }
   ],
   "source": [
    "commit_df = pandas.read_csv('commits.tsv', sep='\\t')\n",
    "commit_df.tail(2)"
   ]
  },
  {
   "cell_type": "code",
   "execution_count": 4,
   "metadata": {},
   "outputs": [],
   "source": [
    "# State of the git repo (deep-review submodule)\n",
    "stats['commit'] = commit_df.commit.iloc[-1]"
   ]
  },
  {
   "cell_type": "code",
   "execution_count": 5,
   "metadata": {},
   "outputs": [],
   "source": [
    "stats['total_commits'] = len(commit_df)"
   ]
  },
  {
   "cell_type": "code",
   "execution_count": 6,
   "metadata": {},
   "outputs": [],
   "source": [
    "# Number of non-merge commits that modified the manuscript markdown source\n",
    "writing_commit_df = commit_df.query(\"(characters_added > 0 or characters_deleted > 0) and merge == 0\")\n",
    "stats['manuscript_commits'] = len(writing_commit_df)"
   ]
  },
  {
   "cell_type": "markdown",
   "metadata": {},
   "source": [
    "## GitHub repo stats"
   ]
  },
  {
   "cell_type": "code",
   "execution_count": 7,
   "metadata": {},
   "outputs": [],
   "source": [
    "# https://developer.github.com/v3/repos/#get\n",
    "response = requests.get('https://api.github.com/repos/greenelab/covid19-review')\n",
    "result = response.json()\n",
    "stats['github_stars'] = result['stargazers_count']\n",
    "stats['github_forks'] = result['forks_count']"
   ]
  },
  {
   "cell_type": "markdown",
   "metadata": {},
   "source": [
    "### Number of pull requests"
   ]
  },
  {
   "cell_type": "code",
   "execution_count": 8,
   "metadata": {},
   "outputs": [],
   "source": [
    "def github_issue_search(query):\n",
    "    \"\"\"\n",
    "    Search issues and pull requests on GitHub.\n",
    "\n",
    "    https://developer.github.com/v3/search/#search-issues\n",
    "    https://help.github.com/articles/searching-issues-and-pull-requests/\n",
    "    \"\"\"\n",
    "    url = 'https://api.github.com/search/issues'\n",
    "    params = {\n",
    "        'q': query,\n",
    "        'sort': 'created',\n",
    "        'order': 'asc',\n",
    "    }\n",
    "    response = requests.get(url, params)\n",
    "    print(response.url)\n",
    "    assert response.status_code == 200\n",
    "    result = response.json()\n",
    "    assert not result['incomplete_results']\n",
    "    return result"
   ]
  },
  {
   "cell_type": "code",
   "execution_count": 9,
   "metadata": {},
   "outputs": [
    {
     "name": "stdout",
     "output_type": "stream",
     "text": [
      "https://api.github.com/search/issues?q=repo%3Agreenelab%2Fcovid19-review+type%3Apr+is%3Amerged&sort=created&order=asc\n"
     ]
    }
   ],
   "source": [
    "# Merged PRs\n",
    "result = github_issue_search('repo:greenelab/covid19-review type:pr is:merged')\n",
    "stats['merged_pull_requests'] = result['total_count']"
   ]
  },
  {
   "cell_type": "code",
   "execution_count": 10,
   "metadata": {},
   "outputs": [
    {
     "name": "stdout",
     "output_type": "stream",
     "text": [
      "https://api.github.com/search/issues?q=repo%3Agreenelab%2Fcovid19-review+type%3Apr+is%3Aunmerged+state%3Aclosed&sort=created&order=asc\n"
     ]
    }
   ],
   "source": [
    "# Closed PRs that were not merged\n",
    "result = github_issue_search('repo:greenelab/covid19-review type:pr is:unmerged state:closed')\n",
    "stats['declined_pull_requests'] = result['total_count']"
   ]
  },
  {
   "cell_type": "code",
   "execution_count": 11,
   "metadata": {},
   "outputs": [
    {
     "name": "stdout",
     "output_type": "stream",
     "text": [
      "https://api.github.com/search/issues?q=repo%3Agreenelab%2Fcovid19-review+type%3Apr+state%3Aopen&sort=created&order=asc\n"
     ]
    }
   ],
   "source": [
    "# Open PRs\n",
    "result = github_issue_search('repo:greenelab/covid19-review type:pr state:open')\n",
    "stats['open_pull_requests'] = result['total_count']"
   ]
  },
  {
   "cell_type": "code",
   "execution_count": 12,
   "metadata": {},
   "outputs": [
    {
     "name": "stdout",
     "output_type": "stream",
     "text": [
      "https://api.github.com/search/issues?q=repo%3Agreenelab%2Fcovid19-review+type%3Aissue+state%3Aopen&sort=created&order=asc\n"
     ]
    }
   ],
   "source": [
    "# Open Issues\n",
    "result = github_issue_search('repo:greenelab/covid19-review type:issue state:open')\n",
    "stats['open_issues'] = result['total_count']"
   ]
  },
  {
   "cell_type": "code",
   "execution_count": 13,
   "metadata": {},
   "outputs": [
    {
     "name": "stdout",
     "output_type": "stream",
     "text": [
      "https://api.github.com/search/issues?q=repo%3Agreenelab%2Fcovid19-review+type%3Aissue+state%3Aclosed&sort=created&order=asc\n"
     ]
    }
   ],
   "source": [
    "# Closed Issues\n",
    "result = github_issue_search('repo:greenelab/covid19-review type:issue state:closed')\n",
    "stats['closed_issues'] = result['total_count']"
   ]
  },
  {
   "cell_type": "markdown",
   "metadata": {},
   "source": [
    "## Write stats"
   ]
  },
  {
   "cell_type": "code",
   "execution_count": 14,
   "metadata": {},
   "outputs": [
    {
     "name": "stdout",
     "output_type": "stream",
     "text": [
      "{\n",
      "  \"creation_time_utc\": \"2021-09-13T22:28:41.603097\",\n",
      "  \"creation_date_pretty\": \"September 13, 2021\",\n",
      "  \"commit\": \"89adbc3fed98ebf280331011aef5bf804bcbf77c\",\n",
      "  \"total_commits\": 5043,\n",
      "  \"manuscript_commits\": 2886,\n",
      "  \"github_stars\": 112,\n",
      "  \"github_forks\": 76,\n",
      "  \"merged_pull_requests\": 575,\n",
      "  \"declined_pull_requests\": 33,\n",
      "  \"open_pull_requests\": 6,\n",
      "  \"open_issues\": 333,\n",
      "  \"closed_issues\": 88\n",
      "}\n"
     ]
    }
   ],
   "source": [
    "stats_str = json.dumps(stats, indent=2)\n",
    "print(stats_str)"
   ]
  },
  {
   "cell_type": "code",
   "execution_count": 15,
   "metadata": {},
   "outputs": [
    {
     "data": {
      "text/plain": [
       "394"
      ]
     },
     "execution_count": 15,
     "metadata": {},
     "output_type": "execute_result"
    }
   ],
   "source": [
    "path = pathlib.Path('covid19-review-stats.json')\n",
    "path.write_text(stats_str)"
   ]
  },
  {
   "cell_type": "code",
   "execution_count": 20,
   "metadata": {},
   "outputs": [],
   "source": [
    "os.remove(\"metadata.yaml\") "
   ]
  },
  {
   "cell_type": "code",
   "execution_count": null,
   "metadata": {},
   "outputs": [],
   "source": []
  }
 ],
 "metadata": {
  "kernelspec": {
   "display_name": "Python 3",
   "language": "python",
   "name": "python3"
  },
  "language_info": {
   "codemirror_mode": {
    "name": "ipython",
    "version": 3
   },
   "file_extension": ".py",
   "mimetype": "text/x-python",
   "name": "python",
   "nbconvert_exporter": "python",
   "pygments_lexer": "ipython3",
   "version": "3.6.7"
  }
 },
 "nbformat": 4,
 "nbformat_minor": 2
}
