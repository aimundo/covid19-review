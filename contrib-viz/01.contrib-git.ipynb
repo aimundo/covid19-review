{
 "cells": [
  {
   "cell_type": "markdown",
   "metadata": {},
   "source": [
    "# Extract GitHub contributions over time\n",
    "\n",
    "Uses [GitPython](http://gitpython.readthedocs.io/en/stable/)."
   ]
  },
  {
   "cell_type": "code",
   "execution_count": 1,
   "metadata": {},
   "outputs": [],
   "source": [
    "import collections\n",
    "import pathlib\n",
    "import re\n",
    "import datetime\n",
    "import git\n",
    "import pandas\n",
    "import pytz"
   ]
  },
  {
   "cell_type": "code",
   "execution_count": 2,
   "metadata": {},
   "outputs": [
    {
     "name": "stdout",
     "output_type": "stream",
     "text": [
      "2c88132aa6e259244b474470bfe72722f89f1683\n"
     ]
    }
   ],
   "source": [
    "repo = git.Repo(path = '../')\n",
    "repo.head.reference = \"master\"\n",
    "print(repo.head.commit)"
   ]
  },
  {
   "cell_type": "code",
   "execution_count": 3,
   "metadata": {},
   "outputs": [],
   "source": [
    "# These patterns are reversed because our diffs are backwards\n",
    "# -R (R=True, suggested in https://git.io/vdigv) doesn't seem to work\n",
    "added_pattern = re.compile(r'^-(.+)', flags=re.MULTILINE)\n",
    "deleted_pattern = re.compile(r'^\\+(.+)', flags=re.MULTILINE)\n",
    "pattern_alphanum = re.compile(r'\\w')\n",
    "\n",
    "def get_word_count(text):\n",
    "    \"\"\"\n",
    "    Compute word count of text. Splits by whitespace and only retains\n",
    "    words with at least one alphanumeric character [a-zA-Z0-9_].\n",
    "    \"\"\"\n",
    "    words = text.split()\n",
    "    words = list(filter(pattern_alphanum.match, words))\n",
    "    return len(words)\n",
    "\n",
    "def get_commit_stats(commit):\n",
    "    \"\"\"\n",
    "    Return addition and deletion (based on `git diff --word-diff`) for a commit.\n",
    "    \n",
    "    https://git-scm.com/docs/git-diff\n",
    "    http://gitpython.readthedocs.io/en/stable/reference.html#module-git.diff\n",
    "    \"\"\"\n",
    "    diffs = commit.diff(\n",
    "        other=commit.parents[0] if commit.parents else git.NULL_TREE,\n",
    "        paths=['sections/*.md', 'content/*.md'],\n",
    "        create_patch=True,\n",
    "        word_diff='porcelain',\n",
    "    )\n",
    "\n",
    "    delta = collections.OrderedDict()\n",
    "    for key in 'words_added', 'words_deleted', 'characters_added', 'characters_deleted':\n",
    "        delta[key] = 0\n",
    "    for diff in diffs:\n",
    "        diff_str = str(diff)\n",
    "        additions = added_pattern.findall(diff_str)\n",
    "        deletions = deleted_pattern.findall(diff_str)\n",
    "\n",
    "        # Attempt to ignore relocated lines\n",
    "        additions, deletions = (\n",
    "            [x for x in additions if get_word_count(x) < 4 or x not in set(deletions)],\n",
    "            [x for x in deletions if get_word_count(x) < 4 or x not in set(additions)],\n",
    "        )\n",
    "        for added in additions:\n",
    "            delta['words_added'] += get_word_count(added)\n",
    "            delta['characters_added'] += len(added)\n",
    "        for deleted in deletions:\n",
    "            delta['words_deleted'] += get_word_count(deleted)\n",
    "            delta['characters_deleted'] += len(deleted)\n",
    "    return(delta)"
   ]
  },
  {
   "cell_type": "code",
   "execution_count": 4,
   "metadata": {},
   "outputs": [],
   "source": [
    "rows = list()\n",
    "# We want to filter out anything from the Manubot development project that predates the COVID-19 project\n",
    "# The COVID-19 project began on 3/20/2020, but let's build in one extra day just in case timezones cause issues\n",
    "tz = pytz.timezone('America/New_York')\n",
    "project_start = datetime.datetime(2020, 3, 19, 0, 0, 0, tzinfo=tz)\n",
    "for commit in repo.iter_commits():\n",
    "    if commit.authored_datetime < project_start:\n",
    "        continue\n",
    "    row = collections.OrderedDict()\n",
    "    row['commit'] = commit.hexsha\n",
    "    row['author_name'] = commit.author.name\n",
    "    row['author_email'] = commit.author.email\n",
    "    row['committer_name'] = commit.committer.name\n",
    "    row['authored_datetime'] = commit.authored_datetime\n",
    "    row['committed_datetime'] = commit.committed_datetime\n",
    "    row['summary'] = commit.summary\n",
    "    row['count'] = commit.count()\n",
    "    row['merge'] = int(len(commit.parents) > 1)\n",
    "    row['parents'] = ', '.join(x.hexsha for x in commit.parents)\n",
    "    row.update(get_commit_stats(commit))\n",
    "    rows.append(row)\n",
    "\n",
    "rows = list(reversed(rows))\n",
    "commit_df = pandas.DataFrame(rows)\n",
    "backup_times = commit_df[\"authored_datetime\"]"
   ]
  },
  {
   "cell_type": "code",
   "execution_count": 5,
   "metadata": {},
   "outputs": [
    {
     "data": {
      "text/html": [
       "<div>\n",
       "<style scoped>\n",
       "    .dataframe tbody tr th:only-of-type {\n",
       "        vertical-align: middle;\n",
       "    }\n",
       "\n",
       "    .dataframe tbody tr th {\n",
       "        vertical-align: top;\n",
       "    }\n",
       "\n",
       "    .dataframe thead th {\n",
       "        text-align: right;\n",
       "    }\n",
       "</style>\n",
       "<table border=\"1\" class=\"dataframe\">\n",
       "  <thead>\n",
       "    <tr style=\"text-align: right;\">\n",
       "      <th></th>\n",
       "      <th>commit</th>\n",
       "      <th>author_name</th>\n",
       "      <th>author_email</th>\n",
       "      <th>committer_name</th>\n",
       "      <th>authored_datetime</th>\n",
       "      <th>committed_datetime</th>\n",
       "      <th>summary</th>\n",
       "      <th>count</th>\n",
       "      <th>merge</th>\n",
       "      <th>parents</th>\n",
       "      <th>words_added</th>\n",
       "      <th>words_deleted</th>\n",
       "      <th>characters_added</th>\n",
       "      <th>characters_deleted</th>\n",
       "    </tr>\n",
       "  </thead>\n",
       "  <tbody>\n",
       "    <tr>\n",
       "      <th>4830</th>\n",
       "      <td>afa719f455502e4a1db8af12f1c515384ffce9c3</td>\n",
       "      <td>HM Rando</td>\n",
       "      <td>halie.rando@cuanschutz.edu</td>\n",
       "      <td>GitHub</td>\n",
       "      <td>2021-08-27 10:36:27-04:00</td>\n",
       "      <td>2021-08-27 10:36:27-04:00</td>\n",
       "      <td>Merge branch 'master' into dziakj1-patch-1</td>\n",
       "      <td>5144</td>\n",
       "      <td>1</td>\n",
       "      <td>e424d1f22568754e1aa8f28c0b4107580d23707b, 7b87...</td>\n",
       "      <td>86</td>\n",
       "      <td>8</td>\n",
       "      <td>711</td>\n",
       "      <td>86</td>\n",
       "    </tr>\n",
       "    <tr>\n",
       "      <th>4831</th>\n",
       "      <td>74e07d945a23835c39f7d5e8a5d8ff8abfb6e05f</td>\n",
       "      <td>Anthony Gitter</td>\n",
       "      <td>agitter@users.noreply.github.com</td>\n",
       "      <td>GitHub</td>\n",
       "      <td>2021-08-27 09:39:51-05:00</td>\n",
       "      <td>2021-08-27 09:39:51-05:00</td>\n",
       "      <td>Merge branch 'master' into more-proofreading</td>\n",
       "      <td>5143</td>\n",
       "      <td>1</td>\n",
       "      <td>8801b30c4ac2f2162025e267e90891ce4931ab0e, 7b87...</td>\n",
       "      <td>86</td>\n",
       "      <td>8</td>\n",
       "      <td>711</td>\n",
       "      <td>86</td>\n",
       "    </tr>\n",
       "    <tr>\n",
       "      <th>4832</th>\n",
       "      <td>0a25b75c7283bf512e1e3f9207e324c2e7a171e3</td>\n",
       "      <td>Anthony Gitter</td>\n",
       "      <td>agitter@users.noreply.github.com</td>\n",
       "      <td>GitHub</td>\n",
       "      <td>2021-08-27 10:03:49-05:00</td>\n",
       "      <td>2021-08-27 10:03:49-05:00</td>\n",
       "      <td>Merge pull request #1013 from greenelab/more-p...</td>\n",
       "      <td>5144</td>\n",
       "      <td>1</td>\n",
       "      <td>7b87214ae8186c65de3b642c42e9fb6b8670680e, 74e0...</td>\n",
       "      <td>41</td>\n",
       "      <td>36</td>\n",
       "      <td>575</td>\n",
       "      <td>581</td>\n",
       "    </tr>\n",
       "    <tr>\n",
       "      <th>4833</th>\n",
       "      <td>d38aec4ed60a9cd95fa242f9fef99a14c294ef00</td>\n",
       "      <td>HM Rando</td>\n",
       "      <td>halie.rando@cuanschutz.edu</td>\n",
       "      <td>GitHub</td>\n",
       "      <td>2021-08-27 11:04:27-04:00</td>\n",
       "      <td>2021-08-27 11:04:27-04:00</td>\n",
       "      <td>Merge branch 'master' into dziakj1-patch-1</td>\n",
       "      <td>5149</td>\n",
       "      <td>1</td>\n",
       "      <td>afa719f455502e4a1db8af12f1c515384ffce9c3, 0a25...</td>\n",
       "      <td>41</td>\n",
       "      <td>36</td>\n",
       "      <td>575</td>\n",
       "      <td>581</td>\n",
       "    </tr>\n",
       "    <tr>\n",
       "      <th>4834</th>\n",
       "      <td>2c88132aa6e259244b474470bfe72722f89f1683</td>\n",
       "      <td>HM Rando</td>\n",
       "      <td>halie.rando@cuanschutz.edu</td>\n",
       "      <td>GitHub</td>\n",
       "      <td>2021-08-27 11:46:27-04:00</td>\n",
       "      <td>2021-08-27 11:46:27-04:00</td>\n",
       "      <td>Merge pull request #1011 from greenelab/dziakj...</td>\n",
       "      <td>5150</td>\n",
       "      <td>1</td>\n",
       "      <td>0a25b75c7283bf512e1e3f9207e324c2e7a171e3, d38a...</td>\n",
       "      <td>54</td>\n",
       "      <td>6</td>\n",
       "      <td>417</td>\n",
       "      <td>37</td>\n",
       "    </tr>\n",
       "  </tbody>\n",
       "</table>\n",
       "</div>"
      ],
      "text/plain": [
       "                                        commit     author_name  \\\n",
       "4830  afa719f455502e4a1db8af12f1c515384ffce9c3        HM Rando   \n",
       "4831  74e07d945a23835c39f7d5e8a5d8ff8abfb6e05f  Anthony Gitter   \n",
       "4832  0a25b75c7283bf512e1e3f9207e324c2e7a171e3  Anthony Gitter   \n",
       "4833  d38aec4ed60a9cd95fa242f9fef99a14c294ef00        HM Rando   \n",
       "4834  2c88132aa6e259244b474470bfe72722f89f1683        HM Rando   \n",
       "\n",
       "                          author_email committer_name  \\\n",
       "4830        halie.rando@cuanschutz.edu         GitHub   \n",
       "4831  agitter@users.noreply.github.com         GitHub   \n",
       "4832  agitter@users.noreply.github.com         GitHub   \n",
       "4833        halie.rando@cuanschutz.edu         GitHub   \n",
       "4834        halie.rando@cuanschutz.edu         GitHub   \n",
       "\n",
       "              authored_datetime         committed_datetime  \\\n",
       "4830  2021-08-27 10:36:27-04:00  2021-08-27 10:36:27-04:00   \n",
       "4831  2021-08-27 09:39:51-05:00  2021-08-27 09:39:51-05:00   \n",
       "4832  2021-08-27 10:03:49-05:00  2021-08-27 10:03:49-05:00   \n",
       "4833  2021-08-27 11:04:27-04:00  2021-08-27 11:04:27-04:00   \n",
       "4834  2021-08-27 11:46:27-04:00  2021-08-27 11:46:27-04:00   \n",
       "\n",
       "                                                summary  count  merge  \\\n",
       "4830         Merge branch 'master' into dziakj1-patch-1   5144      1   \n",
       "4831       Merge branch 'master' into more-proofreading   5143      1   \n",
       "4832  Merge pull request #1013 from greenelab/more-p...   5144      1   \n",
       "4833         Merge branch 'master' into dziakj1-patch-1   5149      1   \n",
       "4834  Merge pull request #1011 from greenelab/dziakj...   5150      1   \n",
       "\n",
       "                                                parents  words_added  \\\n",
       "4830  e424d1f22568754e1aa8f28c0b4107580d23707b, 7b87...           86   \n",
       "4831  8801b30c4ac2f2162025e267e90891ce4931ab0e, 7b87...           86   \n",
       "4832  7b87214ae8186c65de3b642c42e9fb6b8670680e, 74e0...           41   \n",
       "4833  afa719f455502e4a1db8af12f1c515384ffce9c3, 0a25...           41   \n",
       "4834  0a25b75c7283bf512e1e3f9207e324c2e7a171e3, d38a...           54   \n",
       "\n",
       "      words_deleted  characters_added  characters_deleted  \n",
       "4830              8               711                  86  \n",
       "4831              8               711                  86  \n",
       "4832             36               575                 581  \n",
       "4833             36               575                 581  \n",
       "4834              6               417                  37  "
      ]
     },
     "execution_count": 5,
     "metadata": {},
     "output_type": "execute_result"
    }
   ],
   "source": [
    "commit_df.tail(5)"
   ]
  },
  {
   "cell_type": "markdown",
   "metadata": {},
   "source": [
    "## Manual author name fixes"
   ]
  },
  {
   "cell_type": "code",
   "execution_count": 6,
   "metadata": {},
   "outputs": [
    {
     "data": {
      "text/plain": [
       "35"
      ]
     },
     "execution_count": 6,
     "metadata": {},
     "output_type": "execute_result"
    }
   ],
   "source": [
    "path = pathlib.Path('renamer.tsv')\n",
    "renamer = dict()\n",
    "if path.exists():\n",
    "    df = pandas.read_csv(path, sep='\\t')\n",
    "    renamer = dict(zip(df.name, df.rename_to))\n",
    "len(renamer)"
   ]
  },
  {
   "cell_type": "code",
   "execution_count": 7,
   "metadata": {},
   "outputs": [
    {
     "name": "stdout",
     "output_type": "stream",
     "text": [
      "Unique author_names before renaming 62\n",
      "Unique author_names after renaming 52\n",
      "Unique committer_names before renaming 20\n",
      "Unique committer_names after renaming 19\n"
     ]
    }
   ],
   "source": [
    "for column in 'author_name', 'committer_name':\n",
    "    print(f\"Unique {column}s before renaming {commit_df[column].nunique()}\")\n",
    "    commit_df[column].replace(renamer, inplace=True)\n",
    "    print(f\"Unique {column}s after renaming {commit_df[column].nunique()}\")"
   ]
  },
  {
   "cell_type": "code",
   "execution_count": 8,
   "metadata": {},
   "outputs": [
    {
     "data": {
      "text/html": [
       "<div>\n",
       "<style scoped>\n",
       "    .dataframe tbody tr th:only-of-type {\n",
       "        vertical-align: middle;\n",
       "    }\n",
       "\n",
       "    .dataframe tbody tr th {\n",
       "        vertical-align: top;\n",
       "    }\n",
       "\n",
       "    .dataframe thead th {\n",
       "        text-align: right;\n",
       "    }\n",
       "</style>\n",
       "<table border=\"1\" class=\"dataframe\">\n",
       "  <thead>\n",
       "    <tr style=\"text-align: right;\">\n",
       "      <th></th>\n",
       "      <th>commit</th>\n",
       "      <th>author_name</th>\n",
       "      <th>author_email</th>\n",
       "      <th>committer_name</th>\n",
       "      <th>authored_datetime</th>\n",
       "      <th>committed_datetime</th>\n",
       "      <th>summary</th>\n",
       "      <th>count</th>\n",
       "      <th>merge</th>\n",
       "      <th>parents</th>\n",
       "      <th>words_added</th>\n",
       "      <th>words_deleted</th>\n",
       "      <th>characters_added</th>\n",
       "      <th>characters_deleted</th>\n",
       "    </tr>\n",
       "  </thead>\n",
       "  <tbody>\n",
       "    <tr>\n",
       "      <th>0</th>\n",
       "      <td>3f8cdd531916e7cfb3a295f53142c6930ad5c124</td>\n",
       "      <td>Halie Rando</td>\n",
       "      <td>halie.rando@pennmedicine.upenn.edu</td>\n",
       "      <td>Halie Rando</td>\n",
       "      <td>2020-03-20 15:18:05-04:00</td>\n",
       "      <td>2020-03-20 15:18:05-04:00</td>\n",
       "      <td>initial commit</td>\n",
       "      <td>316</td>\n",
       "      <td>0</td>\n",
       "      <td>1780fac0ac6bba1260a9da3886061730fa5d2765</td>\n",
       "      <td>146</td>\n",
       "      <td>0</td>\n",
       "      <td>1000</td>\n",
       "      <td>0</td>\n",
       "    </tr>\n",
       "    <tr>\n",
       "      <th>1</th>\n",
       "      <td>02b07f0f32bdcd7075dde7370bb08e6e36d908a1</td>\n",
       "      <td>Halie Rando</td>\n",
       "      <td>halie.rando@pennmedicine.upenn.edu</td>\n",
       "      <td>Halie Rando</td>\n",
       "      <td>2020-03-20 18:11:40-04:00</td>\n",
       "      <td>2020-03-20 18:11:40-04:00</td>\n",
       "      <td>updated readme and abstract</td>\n",
       "      <td>317</td>\n",
       "      <td>0</td>\n",
       "      <td>3f8cdd531916e7cfb3a295f53142c6930ad5c124</td>\n",
       "      <td>85</td>\n",
       "      <td>61</td>\n",
       "      <td>630</td>\n",
       "      <td>414</td>\n",
       "    </tr>\n",
       "  </tbody>\n",
       "</table>\n",
       "</div>"
      ],
      "text/plain": [
       "                                     commit  author_name  \\\n",
       "0  3f8cdd531916e7cfb3a295f53142c6930ad5c124  Halie Rando   \n",
       "1  02b07f0f32bdcd7075dde7370bb08e6e36d908a1  Halie Rando   \n",
       "\n",
       "                         author_email committer_name  \\\n",
       "0  halie.rando@pennmedicine.upenn.edu    Halie Rando   \n",
       "1  halie.rando@pennmedicine.upenn.edu    Halie Rando   \n",
       "\n",
       "           authored_datetime         committed_datetime  \\\n",
       "0  2020-03-20 15:18:05-04:00  2020-03-20 15:18:05-04:00   \n",
       "1  2020-03-20 18:11:40-04:00  2020-03-20 18:11:40-04:00   \n",
       "\n",
       "                       summary  count  merge  \\\n",
       "0               initial commit    316      0   \n",
       "1  updated readme and abstract    317      0   \n",
       "\n",
       "                                    parents  words_added  words_deleted  \\\n",
       "0  1780fac0ac6bba1260a9da3886061730fa5d2765          146              0   \n",
       "1  3f8cdd531916e7cfb3a295f53142c6930ad5c124           85             61   \n",
       "\n",
       "   characters_added  characters_deleted  \n",
       "0              1000                   0  \n",
       "1               630                 414  "
      ]
     },
     "execution_count": 8,
     "metadata": {},
     "output_type": "execute_result"
    }
   ],
   "source": [
    "commit_df.head(2)"
   ]
  },
  {
   "cell_type": "code",
   "execution_count": 9,
   "metadata": {},
   "outputs": [],
   "source": [
    "# Fix date format to be compatible with R\n",
    "utc_dt = list()\n",
    "for index, value in commit_df[\"authored_datetime\"].items():\n",
    "    utc_dt.append(value.astimezone(pytz.utc))\n",
    "commit_df[\"authored_datetime\"] = pandas.Series(utc_dt)\n",
    "commit_df[\"authored_datetime\"] = commit_df[\"authored_datetime\"].dt.date"
   ]
  },
  {
   "cell_type": "markdown",
   "metadata": {},
   "source": [
    "## Export"
   ]
  },
  {
   "cell_type": "code",
   "execution_count": 10,
   "metadata": {},
   "outputs": [],
   "source": [
    "commit_df.to_csv('commits.tsv', sep='\\t', index=False)"
   ]
  },
  {
   "cell_type": "code",
   "execution_count": 11,
   "metadata": {},
   "outputs": [
    {
     "name": "stdout",
     "output_type": "stream",
     "text": [
      "['Halie Rando' 'Casey Greene' 'Anthony Gitter' 'Michael Robson'\n",
      " 'Ronnie Russell' 'Simina Boca' 'Nils Wellhausen' 'Christian Brueffer'\n",
      " 'Ronan Lordan' \"Lucy D'Agostino McGowan\" 'Sandipan Ray'\n",
      " 'Anna Ada Dattoli' 'Ryan Hagenson' 'Jeff Field' 'Adam MacLean'\n",
      " 'Ryan Velazquez' 'Fengling Hu' 'John P Barton' 'Bharath Ramsundar'\n",
      " 'Alexandra Lee' 'Diane Rafizadeh' 'John J. Dziak' 'Nafisa Jadavji'\n",
      " 'Elizabeth Sell' 'Marouen Ben Guebila' 'Jinhui Wang' 'David Mai'\n",
      " 'Yoson Park' 'Likhitha Kolla' 'Ashwin Skelly' 'Daniel Himmelstein'\n",
      " 'J. Brian Byrd' 'Soumita Ghosh' 'David Manheim' 'Matthias Fax'\n",
      " 'Yael Marshall' 'Vikas Bansal' 'Vincent Rubinetti' 'Sebastian Karcher'\n",
      " 'Stephen Capone' 'Yanjun Qi' 'Yuchen Sun' 'Lamonica Shinholster'\n",
      " 'Sergey Knyazev' 'Dimitri Perrin' 'Greg Szeto' 'C. Titus Brown'\n",
      " 'Temitayo Lukan' 'Tiago Lubiana' 'Nick Fry' 'Amruta Naik' 'Yusha Sun']\n"
     ]
    }
   ],
   "source": [
    "# Check and see whether these need to be cleaned up!\n",
    "print(commit_df[\"author_name\"].unique())"
   ]
  },
  {
   "cell_type": "code",
   "execution_count": 12,
   "metadata": {},
   "outputs": [],
   "source": [
    "# Go back to the external-resources branch\n",
    "repo.head.reference = \"contrib-viz\""
   ]
  },
  {
   "cell_type": "code",
   "execution_count": null,
   "metadata": {},
   "outputs": [],
   "source": []
  }
 ],
 "metadata": {
  "kernelspec": {
   "display_name": "Python 3",
   "language": "python",
   "name": "python3"
  },
  "language_info": {
   "codemirror_mode": {
    "name": "ipython",
    "version": 3
   },
   "file_extension": ".py",
   "mimetype": "text/x-python",
   "name": "python",
   "nbconvert_exporter": "python",
   "pygments_lexer": "ipython3",
   "version": "3.6.7"
  }
 },
 "nbformat": 4,
 "nbformat_minor": 2
}
