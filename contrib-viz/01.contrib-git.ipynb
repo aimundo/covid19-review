{
 "cells": [
  {
   "cell_type": "markdown",
   "metadata": {},
   "source": [
    "# Extract GitHub contributions over time\n",
    "\n",
    "Uses [GitPython](http://gitpython.readthedocs.io/en/stable/)."
   ]
  },
  {
   "cell_type": "code",
   "execution_count": 4,
   "metadata": {},
   "outputs": [],
   "source": [
    "import collections\n",
    "import pathlib\n",
    "import re\n",
    "import datetime\n",
    "import git\n",
    "import pandas\n",
    "import pytz"
   ]
  },
  {
   "cell_type": "code",
   "execution_count": 5,
   "metadata": {},
   "outputs": [
    {
     "name": "stdout",
     "output_type": "stream",
     "text": [
      "89adbc3fed98ebf280331011aef5bf804bcbf77c\n"
     ]
    }
   ],
   "source": [
    "repo = git.Repo(path = '../')\n",
    "repo.head.reference = \"master\"\n",
    "print(repo.head.commit)"
   ]
  },
  {
   "cell_type": "code",
   "execution_count": 6,
   "metadata": {},
   "outputs": [],
   "source": [
    "# These patterns are reversed because our diffs are backwards\n",
    "# -R (R=True, suggested in https://git.io/vdigv) doesn't seem to work\n",
    "added_pattern = re.compile(r'^-(.+)', flags=re.MULTILINE)\n",
    "deleted_pattern = re.compile(r'^\\+(.+)', flags=re.MULTILINE)\n",
    "pattern_alphanum = re.compile(r'\\w')\n",
    "\n",
    "def get_word_count(text):\n",
    "    \"\"\"\n",
    "    Compute word count of text. Splits by whitespace and only retains\n",
    "    words with at least one alphanumeric character [a-zA-Z0-9_].\n",
    "    \"\"\"\n",
    "    words = text.split()\n",
    "    words = list(filter(pattern_alphanum.match, words))\n",
    "    return len(words)\n",
    "\n",
    "def get_commit_stats(commit):\n",
    "    \"\"\"\n",
    "    Return addition and deletion (based on `git diff --word-diff`) for a commit.\n",
    "    \n",
    "    https://git-scm.com/docs/git-diff\n",
    "    http://gitpython.readthedocs.io/en/stable/reference.html#module-git.diff\n",
    "    \"\"\"\n",
    "    diffs = commit.diff(\n",
    "        other=commit.parents[0] if commit.parents else git.NULL_TREE,\n",
    "        paths=['sections/*.md', 'content/*.md'],\n",
    "        create_patch=True,\n",
    "        word_diff='porcelain',\n",
    "    )\n",
    "\n",
    "    delta = collections.OrderedDict()\n",
    "    for key in 'words_added', 'words_deleted', 'characters_added', 'characters_deleted':\n",
    "        delta[key] = 0\n",
    "    for diff in diffs:\n",
    "        diff_str = str(diff)\n",
    "        additions = added_pattern.findall(diff_str)\n",
    "        deletions = deleted_pattern.findall(diff_str)\n",
    "\n",
    "        # Attempt to ignore relocated lines\n",
    "        additions, deletions = (\n",
    "            [x for x in additions if get_word_count(x) < 4 or x not in set(deletions)],\n",
    "            [x for x in deletions if get_word_count(x) < 4 or x not in set(additions)],\n",
    "        )\n",
    "        for added in additions:\n",
    "            delta['words_added'] += get_word_count(added)\n",
    "            delta['characters_added'] += len(added)\n",
    "        for deleted in deletions:\n",
    "            delta['words_deleted'] += get_word_count(deleted)\n",
    "            delta['characters_deleted'] += len(deleted)\n",
    "    return(delta)"
   ]
  },
  {
   "cell_type": "code",
   "execution_count": 7,
   "metadata": {},
   "outputs": [],
   "source": [
    "rows = list()\n",
    "# We want to filter out anything from the Manubot development project that predates the COVID-19 project\n",
    "# The COVID-19 project began on 3/20/2020, but let's build in one extra day just in case timezones cause issues\n",
    "tz = pytz.timezone('America/New_York')\n",
    "project_start = datetime.datetime(2020, 3, 19, 0, 0, 0, tzinfo=tz)\n",
    "for commit in repo.iter_commits():\n",
    "    if commit.authored_datetime < project_start:\n",
    "        continue\n",
    "    row = collections.OrderedDict()\n",
    "    row['commit'] = commit.hexsha\n",
    "    row['author_name'] = commit.author.name\n",
    "    row['author_email'] = commit.author.email\n",
    "    row['committer_name'] = commit.committer.name\n",
    "    row['authored_datetime'] = commit.authored_datetime\n",
    "    row['committed_datetime'] = commit.committed_datetime\n",
    "    row['summary'] = commit.summary\n",
    "    row['count'] = commit.count()\n",
    "    row['merge'] = int(len(commit.parents) > 1)\n",
    "    row['parents'] = ', '.join(x.hexsha for x in commit.parents)\n",
    "    row.update(get_commit_stats(commit))\n",
    "    rows.append(row)\n",
    "\n",
    "rows = list(reversed(rows))\n",
    "commit_df = pandas.DataFrame(rows)\n",
    "backup_times = commit_df[\"authored_datetime\"]"
   ]
  },
  {
   "cell_type": "code",
   "execution_count": 8,
   "metadata": {},
   "outputs": [
    {
     "data": {
      "text/html": [
       "<div>\n",
       "<style scoped>\n",
       "    .dataframe tbody tr th:only-of-type {\n",
       "        vertical-align: middle;\n",
       "    }\n",
       "\n",
       "    .dataframe tbody tr th {\n",
       "        vertical-align: top;\n",
       "    }\n",
       "\n",
       "    .dataframe thead th {\n",
       "        text-align: right;\n",
       "    }\n",
       "</style>\n",
       "<table border=\"1\" class=\"dataframe\">\n",
       "  <thead>\n",
       "    <tr style=\"text-align: right;\">\n",
       "      <th></th>\n",
       "      <th>commit</th>\n",
       "      <th>author_name</th>\n",
       "      <th>author_email</th>\n",
       "      <th>committer_name</th>\n",
       "      <th>authored_datetime</th>\n",
       "      <th>committed_datetime</th>\n",
       "      <th>summary</th>\n",
       "      <th>count</th>\n",
       "      <th>merge</th>\n",
       "      <th>parents</th>\n",
       "      <th>words_added</th>\n",
       "      <th>words_deleted</th>\n",
       "      <th>characters_added</th>\n",
       "      <th>characters_deleted</th>\n",
       "    </tr>\n",
       "  </thead>\n",
       "  <tbody>\n",
       "    <tr>\n",
       "      <th>4997</th>\n",
       "      <td>b9ca24fc1dc5c14640912224f86105dfe5a0b4cc</td>\n",
       "      <td>Anthony Gitter</td>\n",
       "      <td>agitter@users.noreply.github.com</td>\n",
       "      <td>GitHub</td>\n",
       "      <td>2021-09-09 16:33:09-05:00</td>\n",
       "      <td>2021-09-09 16:33:09-05:00</td>\n",
       "      <td>Update JSON syntax</td>\n",
       "      <td>5293</td>\n",
       "      <td>0</td>\n",
       "      <td>32663258d3537df26bc6d06d81db8c4d37f9e733</td>\n",
       "      <td>0</td>\n",
       "      <td>0</td>\n",
       "      <td>0</td>\n",
       "      <td>0</td>\n",
       "    </tr>\n",
       "    <tr>\n",
       "      <th>4998</th>\n",
       "      <td>0fcecefe7120abf28a6e20f8e6ab7e0382b908e3</td>\n",
       "      <td>HM Rando</td>\n",
       "      <td>halie.rando@cuanschutz.edu</td>\n",
       "      <td>GitHub</td>\n",
       "      <td>2021-09-09 18:03:03-04:00</td>\n",
       "      <td>2021-09-09 18:03:03-04:00</td>\n",
       "      <td>Apply suggestions from code review</td>\n",
       "      <td>5294</td>\n",
       "      <td>0</td>\n",
       "      <td>b9ca24fc1dc5c14640912224f86105dfe5a0b4cc</td>\n",
       "      <td>35</td>\n",
       "      <td>28</td>\n",
       "      <td>255</td>\n",
       "      <td>171</td>\n",
       "    </tr>\n",
       "    <tr>\n",
       "      <th>4999</th>\n",
       "      <td>78418ae1e8e3f4c84f2d97310745ffd8d61d02d7</td>\n",
       "      <td>HM Rando</td>\n",
       "      <td>halie.rando@pennmedicine.upenn.edu</td>\n",
       "      <td>HM Rando</td>\n",
       "      <td>2021-09-09 18:05:09-04:00</td>\n",
       "      <td>2021-09-09 18:05:09-04:00</td>\n",
       "      <td>dictionary updates</td>\n",
       "      <td>5295</td>\n",
       "      <td>0</td>\n",
       "      <td>0fcecefe7120abf28a6e20f8e6ab7e0382b908e3</td>\n",
       "      <td>0</td>\n",
       "      <td>0</td>\n",
       "      <td>0</td>\n",
       "      <td>0</td>\n",
       "    </tr>\n",
       "    <tr>\n",
       "      <th>5000</th>\n",
       "      <td>48203f74d8283154d866d14aef2c7e87b337cd67</td>\n",
       "      <td>HM Rando</td>\n",
       "      <td>halie.rando@cuanschutz.edu</td>\n",
       "      <td>GitHub</td>\n",
       "      <td>2021-09-09 18:05:28-04:00</td>\n",
       "      <td>2021-09-09 18:05:28-04:00</td>\n",
       "      <td>Merge branch 'master' into jf-edits</td>\n",
       "      <td>5316</td>\n",
       "      <td>1</td>\n",
       "      <td>78418ae1e8e3f4c84f2d97310745ffd8d61d02d7, 2bcf...</td>\n",
       "      <td>529</td>\n",
       "      <td>0</td>\n",
       "      <td>3952</td>\n",
       "      <td>93</td>\n",
       "    </tr>\n",
       "    <tr>\n",
       "      <th>5001</th>\n",
       "      <td>89adbc3fed98ebf280331011aef5bf804bcbf77c</td>\n",
       "      <td>Anthony Gitter</td>\n",
       "      <td>agitter@users.noreply.github.com</td>\n",
       "      <td>GitHub</td>\n",
       "      <td>2021-09-09 21:31:23-05:00</td>\n",
       "      <td>2021-09-09 21:31:23-05:00</td>\n",
       "      <td>Merge pull request #1025 from rando2/jf-edits</td>\n",
       "      <td>5317</td>\n",
       "      <td>1</td>\n",
       "      <td>2bcf287241085c340b0346af1b798cd9c84ac113, 4820...</td>\n",
       "      <td>1092</td>\n",
       "      <td>539</td>\n",
       "      <td>8315</td>\n",
       "      <td>4086</td>\n",
       "    </tr>\n",
       "  </tbody>\n",
       "</table>\n",
       "</div>"
      ],
      "text/plain": [
       "                                        commit     author_name  \\\n",
       "4997  b9ca24fc1dc5c14640912224f86105dfe5a0b4cc  Anthony Gitter   \n",
       "4998  0fcecefe7120abf28a6e20f8e6ab7e0382b908e3        HM Rando   \n",
       "4999  78418ae1e8e3f4c84f2d97310745ffd8d61d02d7        HM Rando   \n",
       "5000  48203f74d8283154d866d14aef2c7e87b337cd67        HM Rando   \n",
       "5001  89adbc3fed98ebf280331011aef5bf804bcbf77c  Anthony Gitter   \n",
       "\n",
       "                            author_email committer_name  \\\n",
       "4997    agitter@users.noreply.github.com         GitHub   \n",
       "4998          halie.rando@cuanschutz.edu         GitHub   \n",
       "4999  halie.rando@pennmedicine.upenn.edu       HM Rando   \n",
       "5000          halie.rando@cuanschutz.edu         GitHub   \n",
       "5001    agitter@users.noreply.github.com         GitHub   \n",
       "\n",
       "              authored_datetime         committed_datetime  \\\n",
       "4997  2021-09-09 16:33:09-05:00  2021-09-09 16:33:09-05:00   \n",
       "4998  2021-09-09 18:03:03-04:00  2021-09-09 18:03:03-04:00   \n",
       "4999  2021-09-09 18:05:09-04:00  2021-09-09 18:05:09-04:00   \n",
       "5000  2021-09-09 18:05:28-04:00  2021-09-09 18:05:28-04:00   \n",
       "5001  2021-09-09 21:31:23-05:00  2021-09-09 21:31:23-05:00   \n",
       "\n",
       "                                            summary  count  merge  \\\n",
       "4997                             Update JSON syntax   5293      0   \n",
       "4998             Apply suggestions from code review   5294      0   \n",
       "4999                             dictionary updates   5295      0   \n",
       "5000            Merge branch 'master' into jf-edits   5316      1   \n",
       "5001  Merge pull request #1025 from rando2/jf-edits   5317      1   \n",
       "\n",
       "                                                parents  words_added  \\\n",
       "4997           32663258d3537df26bc6d06d81db8c4d37f9e733            0   \n",
       "4998           b9ca24fc1dc5c14640912224f86105dfe5a0b4cc           35   \n",
       "4999           0fcecefe7120abf28a6e20f8e6ab7e0382b908e3            0   \n",
       "5000  78418ae1e8e3f4c84f2d97310745ffd8d61d02d7, 2bcf...          529   \n",
       "5001  2bcf287241085c340b0346af1b798cd9c84ac113, 4820...         1092   \n",
       "\n",
       "      words_deleted  characters_added  characters_deleted  \n",
       "4997              0                 0                   0  \n",
       "4998             28               255                 171  \n",
       "4999              0                 0                   0  \n",
       "5000              0              3952                  93  \n",
       "5001            539              8315                4086  "
      ]
     },
     "execution_count": 8,
     "metadata": {},
     "output_type": "execute_result"
    }
   ],
   "source": [
    "commit_df.tail(5)"
   ]
  },
  {
   "cell_type": "markdown",
   "metadata": {},
   "source": [
    "## Manual author name fixes"
   ]
  },
  {
   "cell_type": "code",
   "execution_count": 9,
   "metadata": {},
   "outputs": [
    {
     "data": {
      "text/plain": [
       "35"
      ]
     },
     "execution_count": 9,
     "metadata": {},
     "output_type": "execute_result"
    }
   ],
   "source": [
    "# Update any users whose GitHub names don't match their authorship names\n",
    "# Use information specified in tab-delim file renamer.tsv\n",
    "\n",
    "path = pathlib.Path('renamer.tsv')\n",
    "renamer = dict()\n",
    "if path.exists():\n",
    "    df = pandas.read_csv(path, sep='\\t')\n",
    "    renamer = dict(zip(df.name, df.rename_to))\n",
    "len(renamer)"
   ]
  },
  {
   "cell_type": "code",
   "execution_count": 10,
   "metadata": {},
   "outputs": [
    {
     "name": "stdout",
     "output_type": "stream",
     "text": [
      "Unique author_names before renaming 62\n",
      "Unique author_names after renaming 52\n",
      "Unique committer_names before renaming 20\n",
      "Unique committer_names after renaming 19\n"
     ]
    }
   ],
   "source": [
    "for column in 'author_name', 'committer_name':\n",
    "    print(f\"Unique {column}s before renaming {commit_df[column].nunique()}\")\n",
    "    commit_df[column].replace(renamer, inplace=True)\n",
    "    print(f\"Unique {column}s after renaming {commit_df[column].nunique()}\")"
   ]
  },
  {
   "cell_type": "code",
   "execution_count": 11,
   "metadata": {},
   "outputs": [
    {
     "data": {
      "text/html": [
       "<div>\n",
       "<style scoped>\n",
       "    .dataframe tbody tr th:only-of-type {\n",
       "        vertical-align: middle;\n",
       "    }\n",
       "\n",
       "    .dataframe tbody tr th {\n",
       "        vertical-align: top;\n",
       "    }\n",
       "\n",
       "    .dataframe thead th {\n",
       "        text-align: right;\n",
       "    }\n",
       "</style>\n",
       "<table border=\"1\" class=\"dataframe\">\n",
       "  <thead>\n",
       "    <tr style=\"text-align: right;\">\n",
       "      <th></th>\n",
       "      <th>commit</th>\n",
       "      <th>author_name</th>\n",
       "      <th>author_email</th>\n",
       "      <th>committer_name</th>\n",
       "      <th>authored_datetime</th>\n",
       "      <th>committed_datetime</th>\n",
       "      <th>summary</th>\n",
       "      <th>count</th>\n",
       "      <th>merge</th>\n",
       "      <th>parents</th>\n",
       "      <th>words_added</th>\n",
       "      <th>words_deleted</th>\n",
       "      <th>characters_added</th>\n",
       "      <th>characters_deleted</th>\n",
       "    </tr>\n",
       "  </thead>\n",
       "  <tbody>\n",
       "    <tr>\n",
       "      <th>0</th>\n",
       "      <td>3f8cdd531916e7cfb3a295f53142c6930ad5c124</td>\n",
       "      <td>Halie Rando</td>\n",
       "      <td>halie.rando@pennmedicine.upenn.edu</td>\n",
       "      <td>Halie Rando</td>\n",
       "      <td>2020-03-20 15:18:05-04:00</td>\n",
       "      <td>2020-03-20 15:18:05-04:00</td>\n",
       "      <td>initial commit</td>\n",
       "      <td>316</td>\n",
       "      <td>0</td>\n",
       "      <td>1780fac0ac6bba1260a9da3886061730fa5d2765</td>\n",
       "      <td>146</td>\n",
       "      <td>0</td>\n",
       "      <td>1000</td>\n",
       "      <td>0</td>\n",
       "    </tr>\n",
       "    <tr>\n",
       "      <th>1</th>\n",
       "      <td>02b07f0f32bdcd7075dde7370bb08e6e36d908a1</td>\n",
       "      <td>Halie Rando</td>\n",
       "      <td>halie.rando@pennmedicine.upenn.edu</td>\n",
       "      <td>Halie Rando</td>\n",
       "      <td>2020-03-20 18:11:40-04:00</td>\n",
       "      <td>2020-03-20 18:11:40-04:00</td>\n",
       "      <td>updated readme and abstract</td>\n",
       "      <td>317</td>\n",
       "      <td>0</td>\n",
       "      <td>3f8cdd531916e7cfb3a295f53142c6930ad5c124</td>\n",
       "      <td>85</td>\n",
       "      <td>61</td>\n",
       "      <td>630</td>\n",
       "      <td>414</td>\n",
       "    </tr>\n",
       "  </tbody>\n",
       "</table>\n",
       "</div>"
      ],
      "text/plain": [
       "                                     commit  author_name  \\\n",
       "0  3f8cdd531916e7cfb3a295f53142c6930ad5c124  Halie Rando   \n",
       "1  02b07f0f32bdcd7075dde7370bb08e6e36d908a1  Halie Rando   \n",
       "\n",
       "                         author_email committer_name  \\\n",
       "0  halie.rando@pennmedicine.upenn.edu    Halie Rando   \n",
       "1  halie.rando@pennmedicine.upenn.edu    Halie Rando   \n",
       "\n",
       "           authored_datetime         committed_datetime  \\\n",
       "0  2020-03-20 15:18:05-04:00  2020-03-20 15:18:05-04:00   \n",
       "1  2020-03-20 18:11:40-04:00  2020-03-20 18:11:40-04:00   \n",
       "\n",
       "                       summary  count  merge  \\\n",
       "0               initial commit    316      0   \n",
       "1  updated readme and abstract    317      0   \n",
       "\n",
       "                                    parents  words_added  words_deleted  \\\n",
       "0  1780fac0ac6bba1260a9da3886061730fa5d2765          146              0   \n",
       "1  3f8cdd531916e7cfb3a295f53142c6930ad5c124           85             61   \n",
       "\n",
       "   characters_added  characters_deleted  \n",
       "0              1000                   0  \n",
       "1               630                 414  "
      ]
     },
     "execution_count": 11,
     "metadata": {},
     "output_type": "execute_result"
    }
   ],
   "source": [
    "commit_df.head(2)"
   ]
  },
  {
   "cell_type": "code",
   "execution_count": 12,
   "metadata": {},
   "outputs": [],
   "source": [
    "# Fix date format to be compatible with R\n",
    "utc_dt = list()\n",
    "for index, value in commit_df[\"authored_datetime\"].items():\n",
    "    utc_dt.append(value.astimezone(pytz.utc))\n",
    "commit_df[\"authored_datetime\"] = pandas.Series(utc_dt)\n",
    "commit_df[\"authored_datetime\"] = commit_df[\"authored_datetime\"].dt.date"
   ]
  },
  {
   "cell_type": "markdown",
   "metadata": {},
   "source": [
    "## Export"
   ]
  },
  {
   "cell_type": "code",
   "execution_count": 13,
   "metadata": {},
   "outputs": [],
   "source": [
    "commit_df.to_csv('commits.tsv', sep='\\t', index=False)"
   ]
  },
  {
   "cell_type": "code",
   "execution_count": 14,
   "metadata": {},
   "outputs": [
    {
     "name": "stdout",
     "output_type": "stream",
     "text": [
      "['Halie Rando' 'Casey Greene' 'Anthony Gitter' 'Michael Robson'\n",
      " 'Ronnie Russell' 'Simina Boca' 'Nils Wellhausen' 'Christian Brueffer'\n",
      " 'Ronan Lordan' \"Lucy D'Agostino McGowan\" 'Sandipan Ray'\n",
      " 'Anna Ada Dattoli' 'Ryan Hagenson' 'Jeff Field' 'Adam MacLean'\n",
      " 'Ryan Velazquez' 'Fengling Hu' 'John P Barton' 'Bharath Ramsundar'\n",
      " 'Alexandra Lee' 'Diane Rafizadeh' 'John J. Dziak' 'Nafisa Jadavji'\n",
      " 'Elizabeth Sell' 'Marouen Ben Guebila' 'Jinhui Wang' 'David Mai'\n",
      " 'Yoson Park' 'Likhitha Kolla' 'Ashwin Skelly' 'Daniel Himmelstein'\n",
      " 'J. Brian Byrd' 'Soumita Ghosh' 'David Manheim' 'Matthias Fax'\n",
      " 'Yael Marshall' 'Vikas Bansal' 'Vincent Rubinetti' 'Sebastian Karcher'\n",
      " 'Stephen Capone' 'Yanjun Qi' 'Yuchen Sun' 'Lamonica Shinholster'\n",
      " 'Sergey Knyazev' 'Dimitri Perrin' 'Greg Szeto' 'C. Titus Brown'\n",
      " 'Temitayo Lukan' 'Tiago Lubiana' 'Nick Fry' 'Amruta Naik' 'Yusha Sun']\n"
     ]
    }
   ],
   "source": [
    "# Check and see whether these need to be cleaned up!\n",
    "print(commit_df[\"author_name\"].unique())"
   ]
  },
  {
   "cell_type": "code",
   "execution_count": 15,
   "metadata": {},
   "outputs": [],
   "source": [
    "# Go back to the external-resources branch\n",
    "repo.head.reference = \"contrib-viz\""
   ]
  },
  {
   "cell_type": "code",
   "execution_count": null,
   "metadata": {},
   "outputs": [],
   "source": []
  }
 ],
 "metadata": {
  "kernelspec": {
   "display_name": "Python 3",
   "language": "python",
   "name": "python3"
  },
  "language_info": {
   "codemirror_mode": {
    "name": "ipython",
    "version": 3
   },
   "file_extension": ".py",
   "mimetype": "text/x-python",
   "name": "python",
   "nbconvert_exporter": "python",
   "pygments_lexer": "ipython3",
   "version": "3.6.7"
  }
 },
 "nbformat": 4,
 "nbformat_minor": 2
}
